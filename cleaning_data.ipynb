{
 "cells": [
  {
   "cell_type": "code",
   "execution_count": 1,
   "metadata": {},
   "outputs": [],
   "source": [
    "import numpy as np\n",
    "import pandas as pd\n",
    "import geopandas as gpd\n",
    "import json\n",
    "import pickle # For various data processing checkpoints\n",
    "\n",
    "import permit_functions # Regex and general cleaning functions\n",
    "import geo_functions # Geographic matching/intersection/segmentation functions\n",
    "from geo_functions import BORO_DICT"
   ]
  },
  {
   "cell_type": "markdown",
   "metadata": {},
   "source": [
    "# Retrieving/Cleaning NYC Film Permit and Street Geometry Data\n",
    "### Data Sources\n",
    "- Street Geometry: [NYC Planning - NYC Digital City Map](https://www1.nyc.gov/site/planning/data-maps/open-data/dwn-digital-city-map.page)\n",
    "- Zip Code Geometry: [NYC OpenData - Zip Code Boundaries](https://data.cityofnewyork.us/Business/Zip-Code-Boundaries/i8iw-xf4u)\n",
    "- Film Permit Data: [NYC OpenData - Film Permits](https://data.cityofnewyork.us/City-Government/Film-Permits/tg4x-b46p)"
   ]
  },
  {
   "cell_type": "markdown",
   "metadata": {},
   "source": [
    "### Retrieve Film Permit Data\n",
    "- Film permit data was retrieved from Socrata via SodaPy and saved as JSON file\n",
    "- The strings indicating streets where parking was held for filming had to be split and cleaned (i.e. ['water street between dock st and main st', ...] -> [('water street', 'dock street', 'main street'), ...])\n",
    "- Since film permits may hold multiple streets for filming, film permits were split into each street being held"
   ]
  },
  {
   "cell_type": "code",
   "execution_count": 2,
   "metadata": {},
   "outputs": [],
   "source": [
    "# Retrieve and clean film permit data\n",
    "with open('./temp/film_events.json', 'r') as f:\n",
    "    film = json.load(f)\n",
    "\n",
    "cleaned_film = []\n",
    "for f in film:\n",
    "    data = permit_functions.clean_data(f)\n",
    "    cleaned_film.append(data)\n",
    "    \n",
    "# Create DataFrame of film permits\n",
    "df = permit_functions.create_film_df(cleaned_film)"
   ]
  },
  {
   "cell_type": "code",
   "execution_count": 3,
   "metadata": {},
   "outputs": [
    {
     "data": {
      "text/html": [
       "<div>\n",
       "<style scoped>\n",
       "    .dataframe tbody tr th:only-of-type {\n",
       "        vertical-align: middle;\n",
       "    }\n",
       "\n",
       "    .dataframe tbody tr th {\n",
       "        vertical-align: top;\n",
       "    }\n",
       "\n",
       "    .dataframe thead th {\n",
       "        text-align: right;\n",
       "    }\n",
       "</style>\n",
       "<table border=\"1\" class=\"dataframe\">\n",
       "  <thead>\n",
       "    <tr style=\"text-align: right;\">\n",
       "      <th></th>\n",
       "      <th>id</th>\n",
       "      <th>borough</th>\n",
       "      <th>zipcode</th>\n",
       "      <th>startdate</th>\n",
       "      <th>enddate</th>\n",
       "      <th>enteredon</th>\n",
       "      <th>category</th>\n",
       "      <th>subcategory</th>\n",
       "      <th>origin</th>\n",
       "      <th>main_st</th>\n",
       "      <th>cross_st_1</th>\n",
       "      <th>cross_st_2</th>\n",
       "    </tr>\n",
       "  </thead>\n",
       "  <tbody>\n",
       "    <tr>\n",
       "      <th>0</th>\n",
       "      <td>605327</td>\n",
       "      <td>Brooklyn</td>\n",
       "      <td>[11201]</td>\n",
       "      <td>2021-10-06 12:00:00</td>\n",
       "      <td>2021-10-07 01:00:00</td>\n",
       "      <td>2021-10-01 18:03:08</td>\n",
       "      <td>Film</td>\n",
       "      <td>Feature</td>\n",
       "      <td>United States of America</td>\n",
       "      <td>water street</td>\n",
       "      <td>dock street</td>\n",
       "      <td>main street</td>\n",
       "    </tr>\n",
       "    <tr>\n",
       "      <th>1</th>\n",
       "      <td>605327</td>\n",
       "      <td>Brooklyn</td>\n",
       "      <td>[11201]</td>\n",
       "      <td>2021-10-06 12:00:00</td>\n",
       "      <td>2021-10-07 01:00:00</td>\n",
       "      <td>2021-10-01 18:03:08</td>\n",
       "      <td>Film</td>\n",
       "      <td>Feature</td>\n",
       "      <td>United States of America</td>\n",
       "      <td>cadman plaza west</td>\n",
       "      <td>prospect street</td>\n",
       "      <td>clark street</td>\n",
       "    </tr>\n",
       "  </tbody>\n",
       "</table>\n",
       "</div>"
      ],
      "text/plain": [
       "       id   borough  zipcode           startdate             enddate  \\\n",
       "0  605327  Brooklyn  [11201] 2021-10-06 12:00:00 2021-10-07 01:00:00   \n",
       "1  605327  Brooklyn  [11201] 2021-10-06 12:00:00 2021-10-07 01:00:00   \n",
       "\n",
       "            enteredon category subcategory                    origin  \\\n",
       "0 2021-10-01 18:03:08     Film     Feature  United States of America   \n",
       "1 2021-10-01 18:03:08     Film     Feature  United States of America   \n",
       "\n",
       "             main_st       cross_st_1    cross_st_2  \n",
       "0       water street      dock street   main street  \n",
       "1  cadman plaza west  prospect street  clark street  "
      ]
     },
     "execution_count": 3,
     "metadata": {},
     "output_type": "execute_result"
    }
   ],
   "source": [
    "df.head(2)"
   ]
  },
  {
   "cell_type": "markdown",
   "metadata": {},
   "source": [
    "### Geographic Data\n",
    "- NYC zip codes and street geometry was retrieved and reprojected to longitude, latitude coordinate system\n",
    "- Street geometry was merged from distinct sections (i.e. each street having multiple rows of line geometry) to single Shapely MultiLineString\n",
    "- In NYC, a street name indicated separate streets (i.e. '100th street' in Brooklyn is distinct from '100th street' in Queens), so geometry was grouped by street name and borough"
   ]
  },
  {
   "cell_type": "code",
   "execution_count": 4,
   "metadata": {},
   "outputs": [],
   "source": [
    "# Get zipcode geometry and reproject to MapBox readable coordinate system\n",
    "zipcodes = gpd.read_file('./geodata/zipcodes/ZIP_CODE_040114.shp')\n",
    "zipcodes['geometry'] = zipcodes['geometry'].to_crs('EPSG:4326')\n",
    "zipcodes = pd.DataFrame(zipcodes[['ZIPCODE', 'COUNTY', 'geometry']])\n",
    "zipcodes['COUNTY'] = zipcodes['COUNTY'].map(lambda x: BORO_DICT[x])\n",
    "zipcodes.columns = ['zipcode', 'borough', 'geometry']"
   ]
  },
  {
   "cell_type": "code",
   "execution_count": 34,
   "metadata": {},
   "outputs": [],
   "source": [
    "# DataFrame from cell above was saved as pickle file\n",
    "with open('zip_codes.p', 'wb') as f:\n",
    "    pickle.dump(zipcodes, f)\n",
    "\n",
    "with open('zip_codes.p', 'rb') as f:\n",
    "    zipcodes = pickle.load(f)"
   ]
  },
  {
   "cell_type": "code",
   "execution_count": null,
   "metadata": {},
   "outputs": [],
   "source": [
    "# Read file and reproject to MapBox readable coordinate system\n",
    "nyc = gpd.read_file('./geodata/dcm_scl/DCM_StreetCenterLine.shp')\n",
    "nyc['geometry'] = nyc['geometry'].to_crs('EPSG:4326')\n",
    "\n",
    "# Merge street segments\n",
    "nyc['street'] = nyc['Street_NM'] + ', ' + nyc['Borough']\n",
    "nyc = nyc.dissolve('street').reset_index()\n",
    "\n",
    "# Determine zipcodes of streets (long format)\n",
    "nyc['zipcodes'] = nyc['geometry'].map(lambda x: geo_functions.seg_in_zipcode(x, zipcodes))\n",
    "nyc = pd.DataFrame(nyc[['Street_NM', 'Borough', 'zipcodes', 'geometry']])\n",
    "nyc.columns = ['street', 'borough', 'zipcodes', 'geometry']\n",
    "nyc['street'] = nyc['street'].map(lambda x: permit_functions.clean_street(x))\n",
    "temp = gpd.GeoDataFrame(nyc['zipcodes'].to_list(), index=nyc.index).stack().reset_index()\n",
    "nyc = temp.merge(nyc, how='left', left_on='level_0', right_on=nyc.index)\n",
    "nyc.drop(columns=['level_0', 'level_1', 'zipcodes'], inplace=True)\n",
    "nyc.rename(columns={0: 'zipcode'}, inplace=True)"
   ]
  },
  {
   "cell_type": "code",
   "execution_count": 5,
   "metadata": {},
   "outputs": [],
   "source": [
    "# DataFrame from cell above was saved as pickle file\n",
    "# with open('nyc.p', 'wb') as f:\n",
    "#     pickle.dump(nyc, f)\n",
    "\n",
    "with open('nyc.p', 'rb') as f:\n",
    "    nyc = pickle.load(f)\n",
    "\n",
    "nyc = gpd.GeoDataFrame(nyc) # Re-instantiate as DataFrame for type hints"
   ]
  },
  {
   "cell_type": "code",
   "execution_count": 6,
   "metadata": {},
   "outputs": [
    {
     "data": {
      "text/html": [
       "<div>\n",
       "<style scoped>\n",
       "    .dataframe tbody tr th:only-of-type {\n",
       "        vertical-align: middle;\n",
       "    }\n",
       "\n",
       "    .dataframe tbody tr th {\n",
       "        vertical-align: top;\n",
       "    }\n",
       "\n",
       "    .dataframe thead th {\n",
       "        text-align: right;\n",
       "    }\n",
       "</style>\n",
       "<table border=\"1\" class=\"dataframe\">\n",
       "  <thead>\n",
       "    <tr style=\"text-align: right;\">\n",
       "      <th></th>\n",
       "      <th>zipcode</th>\n",
       "      <th>street</th>\n",
       "      <th>borough</th>\n",
       "      <th>geometry</th>\n",
       "    </tr>\n",
       "  </thead>\n",
       "  <tbody>\n",
       "    <tr>\n",
       "      <th>0</th>\n",
       "      <td>10465</td>\n",
       "      <td>1st avenue</td>\n",
       "      <td>Bronx</td>\n",
       "      <td>MULTILINESTRING Z ((-73.80721 40.82418 0.00000...</td>\n",
       "    </tr>\n",
       "    <tr>\n",
       "      <th>1</th>\n",
       "      <td>11232</td>\n",
       "      <td>1st avenue</td>\n",
       "      <td>Brooklyn</td>\n",
       "      <td>MULTILINESTRING Z ((-74.01272 40.65661 0.00000...</td>\n",
       "    </tr>\n",
       "  </tbody>\n",
       "</table>\n",
       "</div>"
      ],
      "text/plain": [
       "  zipcode      street   borough  \\\n",
       "0   10465  1st avenue     Bronx   \n",
       "1   11232  1st avenue  Brooklyn   \n",
       "\n",
       "                                            geometry  \n",
       "0  MULTILINESTRING Z ((-73.80721 40.82418 0.00000...  \n",
       "1  MULTILINESTRING Z ((-74.01272 40.65661 0.00000...  "
      ]
     },
     "execution_count": 6,
     "metadata": {},
     "output_type": "execute_result"
    }
   ],
   "source": [
    "nyc.head(2)"
   ]
  },
  {
   "cell_type": "markdown",
   "metadata": {},
   "source": [
    "### Matching Streets in Film Permits\n",
    "- The geometry of the main street and cross streets had to be matched to the street names\n",
    "- Since filming may take place in multiple boroughs, each street had to be matched on name and zip code from the listed film shoot (i.e. 'north 4th street' in film permit had to be matched on a street name of 'north 4th street' and zip code of '11211')\n",
    "\n",
    "#### Future Improvements\n",
    "- Further improvements must be made for creating false intersections where 2 streets do not have an official NYC Planning Street Center Line intersection\n",
    "- Further improvements must be made for list of zip codes having multiple same name streets (i.e. filming taking place in downtown Brooklyn which has a 'West Street' and westside Manhattan which has a 'West Street')"
   ]
  },
  {
   "cell_type": "code",
   "execution_count": null,
   "metadata": {},
   "outputs": [],
   "source": [
    "### DO NOT RUN CELL ###\n",
    "# Match street name to street geometry\n",
    "df['ms_geom'] = df.apply(lambda x: geo_functions.match_street_geo(x['main_st'], x['zipcode'], nyc), axis=1)\n",
    "df['cs1_geom'] = df.apply(lambda x: geo_functions.match_street_geo(x['cross_st_1'], x['zipcode'], nyc), axis=1)\n",
    "df['cs2_geom'] = df.apply(lambda x: geo_functions.match_street_geo(x['cross_st_2'], x['zipcode'], nyc), axis=1)\n",
    "### DO NOT RUN CELL ###"
   ]
  },
  {
   "cell_type": "code",
   "execution_count": 7,
   "metadata": {},
   "outputs": [],
   "source": [
    "# DataFrame from cell above was saved as pickle file\n",
    "# with open('df.p', 'wb') as f:\n",
    "#     pickle.dump(df, f)\n",
    "\n",
    "with open('df.p', 'rb') as f:\n",
    "    df = pickle.load(f)\n",
    "\n",
    "df = gpd.GeoDataFrame(df) # Re-instantiate as DataFrame for type hints"
   ]
  },
  {
   "cell_type": "code",
   "execution_count": 8,
   "metadata": {},
   "outputs": [
    {
     "data": {
      "text/html": [
       "<div>\n",
       "<style scoped>\n",
       "    .dataframe tbody tr th:only-of-type {\n",
       "        vertical-align: middle;\n",
       "    }\n",
       "\n",
       "    .dataframe tbody tr th {\n",
       "        vertical-align: top;\n",
       "    }\n",
       "\n",
       "    .dataframe thead th {\n",
       "        text-align: right;\n",
       "    }\n",
       "</style>\n",
       "<table border=\"1\" class=\"dataframe\">\n",
       "  <thead>\n",
       "    <tr style=\"text-align: right;\">\n",
       "      <th></th>\n",
       "      <th>id</th>\n",
       "      <th>borough</th>\n",
       "      <th>zipcode</th>\n",
       "      <th>startdate</th>\n",
       "      <th>enddate</th>\n",
       "      <th>enteredon</th>\n",
       "      <th>category</th>\n",
       "      <th>subcategory</th>\n",
       "      <th>origin</th>\n",
       "      <th>main_st</th>\n",
       "      <th>cross_st_1</th>\n",
       "      <th>cross_st_2</th>\n",
       "      <th>ms_geom</th>\n",
       "      <th>cs1_geom</th>\n",
       "      <th>cs2_geom</th>\n",
       "    </tr>\n",
       "  </thead>\n",
       "  <tbody>\n",
       "    <tr>\n",
       "      <th>0</th>\n",
       "      <td>605327</td>\n",
       "      <td>Brooklyn</td>\n",
       "      <td>[11201]</td>\n",
       "      <td>2021-10-06 12:00:00</td>\n",
       "      <td>2021-10-07 01:00:00</td>\n",
       "      <td>2021-10-01 18:03:08</td>\n",
       "      <td>Film</td>\n",
       "      <td>Feature</td>\n",
       "      <td>United States of America</td>\n",
       "      <td>water street</td>\n",
       "      <td>dock street</td>\n",
       "      <td>main street</td>\n",
       "      <td>(LINESTRING Z (-73.98788994171684 40.703141574...</td>\n",
       "      <td>(LINESTRING Z (-73.99255059003967 40.703299935...</td>\n",
       "      <td>(LINESTRING Z (-73.99066328463533 40.703907459...</td>\n",
       "    </tr>\n",
       "    <tr>\n",
       "      <th>1</th>\n",
       "      <td>605327</td>\n",
       "      <td>Brooklyn</td>\n",
       "      <td>[11201]</td>\n",
       "      <td>2021-10-06 12:00:00</td>\n",
       "      <td>2021-10-07 01:00:00</td>\n",
       "      <td>2021-10-01 18:03:08</td>\n",
       "      <td>Film</td>\n",
       "      <td>Feature</td>\n",
       "      <td>United States of America</td>\n",
       "      <td>cadman plaza west</td>\n",
       "      <td>prospect street</td>\n",
       "      <td>clark street</td>\n",
       "      <td>(LINESTRING Z (-73.99102943975372 40.699846702...</td>\n",
       "      <td>(LINESTRING Z (-73.9897364359837 40.7007053107...</td>\n",
       "      <td>(LINESTRING Z (-73.99301808265935 40.697461904...</td>\n",
       "    </tr>\n",
       "  </tbody>\n",
       "</table>\n",
       "</div>"
      ],
      "text/plain": [
       "       id   borough  zipcode           startdate             enddate  \\\n",
       "0  605327  Brooklyn  [11201] 2021-10-06 12:00:00 2021-10-07 01:00:00   \n",
       "1  605327  Brooklyn  [11201] 2021-10-06 12:00:00 2021-10-07 01:00:00   \n",
       "\n",
       "            enteredon category subcategory                    origin  \\\n",
       "0 2021-10-01 18:03:08     Film     Feature  United States of America   \n",
       "1 2021-10-01 18:03:08     Film     Feature  United States of America   \n",
       "\n",
       "             main_st       cross_st_1    cross_st_2  \\\n",
       "0       water street      dock street   main street   \n",
       "1  cadman plaza west  prospect street  clark street   \n",
       "\n",
       "                                             ms_geom  \\\n",
       "0  (LINESTRING Z (-73.98788994171684 40.703141574...   \n",
       "1  (LINESTRING Z (-73.99102943975372 40.699846702...   \n",
       "\n",
       "                                            cs1_geom  \\\n",
       "0  (LINESTRING Z (-73.99255059003967 40.703299935...   \n",
       "1  (LINESTRING Z (-73.9897364359837 40.7007053107...   \n",
       "\n",
       "                                            cs2_geom  \n",
       "0  (LINESTRING Z (-73.99066328463533 40.703907459...  \n",
       "1  (LINESTRING Z (-73.99301808265935 40.697461904...  "
      ]
     },
     "execution_count": 8,
     "metadata": {},
     "output_type": "execute_result"
    }
   ],
   "source": [
    "df.head(2)"
   ]
  },
  {
   "cell_type": "code",
   "execution_count": 9,
   "metadata": {},
   "outputs": [
    {
     "name": "stdout",
     "output_type": "stream",
     "text": [
      "<class 'geopandas.geodataframe.GeoDataFrame'>\n",
      "Int64Index: 105545 entries, 0 to 105544\n",
      "Data columns (total 15 columns):\n",
      " #   Column       Non-Null Count   Dtype         \n",
      "---  ------       --------------   -----         \n",
      " 0   id           105545 non-null  object        \n",
      " 1   borough      105545 non-null  object        \n",
      " 2   zipcode      105545 non-null  object        \n",
      " 3   startdate    105545 non-null  datetime64[ns]\n",
      " 4   enddate      105545 non-null  datetime64[ns]\n",
      " 5   enteredon    105545 non-null  datetime64[ns]\n",
      " 6   category     105545 non-null  object        \n",
      " 7   subcategory  105545 non-null  object        \n",
      " 8   origin       105545 non-null  object        \n",
      " 9   main_st      105545 non-null  object        \n",
      " 10  cross_st_1   105545 non-null  object        \n",
      " 11  cross_st_2   105545 non-null  object        \n",
      " 12  ms_geom      103797 non-null  object        \n",
      " 13  cs1_geom     103147 non-null  object        \n",
      " 14  cs2_geom     102279 non-null  object        \n",
      "dtypes: datetime64[ns](3), object(12)\n",
      "memory usage: 12.9+ MB\n"
     ]
    }
   ],
   "source": [
    "df.info()"
   ]
  },
  {
   "cell_type": "markdown",
   "metadata": {},
   "source": [
    "### Intersections and Street Segments\n",
    "- The geometry of the streets blocked for filming was derived from the intersection of the main street and cross street geometries\n",
    "- ~18% of the rows had to be drop due to unmatched street names in the film permit to official street names, streets where intersections did not exist based on geometry\n",
    "- The `get_held_geometry` function was able to create false intersections between many streets but not all streets where an intersection between a main street and cross street did not exist\n",
    "- Note: Deprecation warning from setting GeoSeries objects to MultiLineString geometries, function utilizes `geoms` property"
   ]
  },
  {
   "cell_type": "code",
   "execution_count": 30,
   "metadata": {},
   "outputs": [
    {
     "name": "stderr",
     "output_type": "stream",
     "text": [
      "/Users/waynelam/miniconda3/envs/geo_env/lib/python3.10/site-packages/pandas/core/dtypes/cast.py:118: ShapelyDeprecationWarning: The array interface is deprecated and will no longer work in Shapely 2.0. Convert the '.coords' to a numpy array instead.\n",
      "  arr = construct_1d_object_array_from_listlike(values)\n",
      "/Users/waynelam/miniconda3/envs/geo_env/lib/python3.10/site-packages/pandas/core/dtypes/cast.py:1990: ShapelyDeprecationWarning: __len__ for multi-part geometries is deprecated and will be removed in Shapely 2.0. Check the length of the `geoms` property instead to get the  number of parts of a multi-part geometry.\n",
      "  result[:] = values\n"
     ]
    }
   ],
   "source": [
    "### DO NOT RUN CELL ###\n",
    "# Drop rows with missing street geometry\n",
    "df.dropna(axis=0, subset=['ms_geom', 'cs1_geom', 'cs2_geom'], inplace=True)\n",
    "\n",
    "# Get geometry of parking held for filming\n",
    "df['ph_geom'] = df.apply(lambda x: geo_functions.get_held_geometry(x), axis=1)\n",
    "df.dropna(axis=0, subset=['ph_geom'], inplace=True)\n",
    "\n",
    "# Drop empty geometries\n",
    "df['ph_geom'] = df['ph_geom'].map(lambda x: np.nan if x.is_empty else x)\n",
    "df.dropna(axis=0, subset=['ph_geom'], inplace=True)\n",
    "df.rename(columns={'ph_geom': 'geometry'}, inplace=True)\n",
    "### DO NOT RUN CELL ###"
   ]
  },
  {
   "cell_type": "code",
   "execution_count": 31,
   "metadata": {},
   "outputs": [],
   "source": [
    "# DataFrame from cell above was saved as pickle file\n",
    "# with open('film_df.p', 'wb') as f:\n",
    "#     pickle.dump(df, f)\n",
    "\n",
    "with open('film_df.p', 'rb') as f:\n",
    "    df = pickle.load(f)\n",
    "\n",
    "df = gpd.GeoDataFrame(df) # Re-instantiate as DataFrame for type hints"
   ]
  },
  {
   "cell_type": "code",
   "execution_count": 32,
   "metadata": {},
   "outputs": [
    {
     "data": {
      "text/html": [
       "<div>\n",
       "<style scoped>\n",
       "    .dataframe tbody tr th:only-of-type {\n",
       "        vertical-align: middle;\n",
       "    }\n",
       "\n",
       "    .dataframe tbody tr th {\n",
       "        vertical-align: top;\n",
       "    }\n",
       "\n",
       "    .dataframe thead th {\n",
       "        text-align: right;\n",
       "    }\n",
       "</style>\n",
       "<table border=\"1\" class=\"dataframe\">\n",
       "  <thead>\n",
       "    <tr style=\"text-align: right;\">\n",
       "      <th></th>\n",
       "      <th>id</th>\n",
       "      <th>borough</th>\n",
       "      <th>zipcode</th>\n",
       "      <th>startdate</th>\n",
       "      <th>enddate</th>\n",
       "      <th>enteredon</th>\n",
       "      <th>category</th>\n",
       "      <th>subcategory</th>\n",
       "      <th>origin</th>\n",
       "      <th>main_st</th>\n",
       "      <th>cross_st_1</th>\n",
       "      <th>cross_st_2</th>\n",
       "      <th>ms_geom</th>\n",
       "      <th>cs1_geom</th>\n",
       "      <th>cs2_geom</th>\n",
       "      <th>geometry</th>\n",
       "    </tr>\n",
       "  </thead>\n",
       "  <tbody>\n",
       "    <tr>\n",
       "      <th>0</th>\n",
       "      <td>605327</td>\n",
       "      <td>Brooklyn</td>\n",
       "      <td>[11201]</td>\n",
       "      <td>2021-10-06 12:00:00</td>\n",
       "      <td>2021-10-07 01:00:00</td>\n",
       "      <td>2021-10-01 18:03:08</td>\n",
       "      <td>Film</td>\n",
       "      <td>Feature</td>\n",
       "      <td>United States of America</td>\n",
       "      <td>water street</td>\n",
       "      <td>dock street</td>\n",
       "      <td>main street</td>\n",
       "      <td>(LINESTRING Z (-73.98788994171684 40.703141574...</td>\n",
       "      <td>(LINESTRING Z (-73.99255059003967 40.703299935...</td>\n",
       "      <td>(LINESTRING Z (-73.99066328463533 40.703907459...</td>\n",
       "      <td>LINESTRING Z (-73.99255 40.70330 0.00000, -73....</td>\n",
       "    </tr>\n",
       "    <tr>\n",
       "      <th>2</th>\n",
       "      <td>605327</td>\n",
       "      <td>Brooklyn</td>\n",
       "      <td>[11201]</td>\n",
       "      <td>2021-10-06 12:00:00</td>\n",
       "      <td>2021-10-07 01:00:00</td>\n",
       "      <td>2021-10-01 18:03:08</td>\n",
       "      <td>Film</td>\n",
       "      <td>Feature</td>\n",
       "      <td>United States of America</td>\n",
       "      <td>tillary street</td>\n",
       "      <td>cadman plaza west</td>\n",
       "      <td>adams street - brooklyn bridge boulevard</td>\n",
       "      <td>(LINESTRING Z (-73.98035914408307 40.696190742...</td>\n",
       "      <td>(LINESTRING Z (-73.99102943975372 40.699846702...</td>\n",
       "      <td>(LINESTRING Z (-73.98876375219565 40.696197512...</td>\n",
       "      <td>MULTILINESTRING Z ((-73.99118 40.69629 0.00000...</td>\n",
       "    </tr>\n",
       "  </tbody>\n",
       "</table>\n",
       "</div>"
      ],
      "text/plain": [
       "       id   borough  zipcode           startdate             enddate  \\\n",
       "0  605327  Brooklyn  [11201] 2021-10-06 12:00:00 2021-10-07 01:00:00   \n",
       "2  605327  Brooklyn  [11201] 2021-10-06 12:00:00 2021-10-07 01:00:00   \n",
       "\n",
       "            enteredon category subcategory                    origin  \\\n",
       "0 2021-10-01 18:03:08     Film     Feature  United States of America   \n",
       "2 2021-10-01 18:03:08     Film     Feature  United States of America   \n",
       "\n",
       "          main_st         cross_st_1  \\\n",
       "0    water street        dock street   \n",
       "2  tillary street  cadman plaza west   \n",
       "\n",
       "                                 cross_st_2  \\\n",
       "0                               main street   \n",
       "2  adams street - brooklyn bridge boulevard   \n",
       "\n",
       "                                             ms_geom  \\\n",
       "0  (LINESTRING Z (-73.98788994171684 40.703141574...   \n",
       "2  (LINESTRING Z (-73.98035914408307 40.696190742...   \n",
       "\n",
       "                                            cs1_geom  \\\n",
       "0  (LINESTRING Z (-73.99255059003967 40.703299935...   \n",
       "2  (LINESTRING Z (-73.99102943975372 40.699846702...   \n",
       "\n",
       "                                            cs2_geom  \\\n",
       "0  (LINESTRING Z (-73.99066328463533 40.703907459...   \n",
       "2  (LINESTRING Z (-73.98876375219565 40.696197512...   \n",
       "\n",
       "                                            geometry  \n",
       "0  LINESTRING Z (-73.99255 40.70330 0.00000, -73....  \n",
       "2  MULTILINESTRING Z ((-73.99118 40.69629 0.00000...  "
      ]
     },
     "execution_count": 32,
     "metadata": {},
     "output_type": "execute_result"
    }
   ],
   "source": [
    "df.head(2)"
   ]
  },
  {
   "cell_type": "code",
   "execution_count": 33,
   "metadata": {},
   "outputs": [
    {
     "name": "stdout",
     "output_type": "stream",
     "text": [
      "<class 'geopandas.geodataframe.GeoDataFrame'>\n",
      "Int64Index: 86993 entries, 0 to 105544\n",
      "Data columns (total 16 columns):\n",
      " #   Column       Non-Null Count  Dtype         \n",
      "---  ------       --------------  -----         \n",
      " 0   id           86993 non-null  object        \n",
      " 1   borough      86993 non-null  object        \n",
      " 2   zipcode      86993 non-null  object        \n",
      " 3   startdate    86993 non-null  datetime64[ns]\n",
      " 4   enddate      86993 non-null  datetime64[ns]\n",
      " 5   enteredon    86993 non-null  datetime64[ns]\n",
      " 6   category     86993 non-null  object        \n",
      " 7   subcategory  86993 non-null  object        \n",
      " 8   origin       86993 non-null  object        \n",
      " 9   main_st      86993 non-null  object        \n",
      " 10  cross_st_1   86993 non-null  object        \n",
      " 11  cross_st_2   86993 non-null  object        \n",
      " 12  ms_geom      86993 non-null  object        \n",
      " 13  cs1_geom     86993 non-null  object        \n",
      " 14  cs2_geom     86993 non-null  object        \n",
      " 15  geometry     86993 non-null  object        \n",
      "dtypes: datetime64[ns](3), object(13)\n",
      "memory usage: 11.3+ MB\n"
     ]
    }
   ],
   "source": [
    "df.info()"
   ]
  }
 ],
 "metadata": {
  "interpreter": {
   "hash": "dd527bd4d3b651047994c597e1ec3692baa832bfd0d87b2b2957688b5d65bc7a"
  },
  "kernelspec": {
   "display_name": "Python 3.10.1 64-bit ('geo_env': conda)",
   "language": "python",
   "name": "python3"
  },
  "language_info": {
   "codemirror_mode": {
    "name": "ipython",
    "version": 3
   },
   "file_extension": ".py",
   "mimetype": "text/x-python",
   "name": "python",
   "nbconvert_exporter": "python",
   "pygments_lexer": "ipython3",
   "version": "3.10.1"
  },
  "orig_nbformat": 4
 },
 "nbformat": 4,
 "nbformat_minor": 2
}
